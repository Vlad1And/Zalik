{
 "cells": [
  {
   "cell_type": "markdown",
   "id": "85f418cd-1139-403b-88bb-52800dde164b",
   "metadata": {},
   "source": [
    "# Опис розв’язання\n",
    "1. Імпортуємо бібліотеку NumPy.\n",
    "2. Генеруємо масив із 100 випадкових цілих чисел у діапазоні від 1 до 100.\n",
    "3. Обчислюємо медіану цього масиву за допомогою `numpy.median()`.\n",
    "4. Виводимо масив і знайдену медіану.\n",
    "5. Завантажуємо `.ipynb` файл у репозиторій GitHub."
   ]
  },
  {
   "cell_type": "code",
   "execution_count": 2,
   "id": "f8e1360f-9709-4e4c-a66d-092c9d1c272e",
   "metadata": {},
   "outputs": [
    {
     "name": "stdout",
     "output_type": "stream",
     "text": [
      "Масив із 100 елементів:\n",
      "[ 56  48   2  37  14  72  49  18  26  20  96  43  26  97   2  25  65  97\n",
      "  20  83  37   8  61  36  82  66  72   4  15  76  13  72  78 100  19   3\n",
      "  91   4  80  20  93  16  43   8  75  22  45  42  96  32   3   2  51  27\n",
      "  46  63  86  85  76  24  74  88  45  38  58  11  52  18  32  70  69  90\n",
      "  11  89  32  74  66  67  47  12  20  74  14  93  86   9  34  37  10  70\n",
      "  18  38  78  89  46  66  77  71  91  99]\n",
      "\n",
      "Медіана масиву:\n",
      "46.5\n"
     ]
    }
   ],
   "source": [
    "import numpy as np\n",
    "array = np.random.randint(1, 101, 100)\n",
    "median_value = np.median(array)\n",
    "print(\"Масив із 100 елементів:\")\n",
    "print(array)\n",
    "print(\"\\nМедіана масиву:\")\n",
    "print(median_value)"
   ]
  }
 ],
 "metadata": {
  "kernelspec": {
   "display_name": "Python 3 (ipykernel)",
   "language": "python",
   "name": "python3"
  },
  "language_info": {
   "codemirror_mode": {
    "name": "ipython",
    "version": 3
   },
   "file_extension": ".py",
   "mimetype": "text/x-python",
   "name": "python",
   "nbconvert_exporter": "python",
   "pygments_lexer": "ipython3",
   "version": "3.12.7"
  }
 },
 "nbformat": 4,
 "nbformat_minor": 5
}
